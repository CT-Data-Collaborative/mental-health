{
 "cells": [
  {
   "cell_type": "markdown",
   "metadata": {},
   "source": [
    "# Append 2017-2018 data\n",
    "\n",
    "* It doesn't come in HTML so the R script cannot be applied\n",
    "* It doesn't have 12-17 age group"
   ]
  },
  {
   "cell_type": "code",
   "execution_count": 185,
   "metadata": {},
   "outputs": [],
   "source": [
    "import pandas as pd\n",
    "import numpy as np\n",
    "import csv"
   ]
  },
  {
   "cell_type": "code",
   "execution_count": 170,
   "metadata": {},
   "outputs": [],
   "source": [
    "# Existing file with data up to 2017\n",
    "base = pd.read_csv('../data/dmhas_nsduh_mh_2017.csv')\n",
    "\n",
    "# Excel file with the new data\n",
    "xls = pd.ExcelFile('../raw/NSDUHsaeExcelTabs2018.xlsx')"
   ]
  },
  {
   "cell_type": "code",
   "execution_count": 171,
   "metadata": {},
   "outputs": [],
   "source": [
    "# Geo crosswalk\n",
    "clean_geo = {\n",
    "    'Total U.S.': 'United States',\n",
    "    'Midwest': 'Midwestern Region',\n",
    "    'Northeast': 'Northeastern Region',\n",
    "    'South': 'Southern Region',\n",
    "    'West': 'Western Region'\n",
    "}"
   ]
  },
  {
   "cell_type": "code",
   "execution_count": 172,
   "metadata": {},
   "outputs": [],
   "source": [
    "def clean_up_table(df):\n",
    "    \n",
    "    # Only relevant geographies\n",
    "    df = df[ df.State.isin(['Total U.S.', 'Northeast', 'Midwest', 'South', 'West', 'Connecticut']) ]\n",
    "    df.State = df.State.apply(lambda x: clean_geo[x] if x in clean_geo else x)\n",
    "    \n",
    "    # Clean up column names\n",
    "    df.drop( list(df.filter(regex='CI')), axis=1, inplace=True )\n",
    "    \n",
    "    # Clean up column names\n",
    "    df.columns = [ x.split('\\n')[0] for x in df.columns.values ]\n",
    "    df = df.rename(columns={'18 or Older': 'Over 17', '26 or Older': 'Over 25', 'State': 'Region'})\n",
    "    \n",
    "    # Express as percentages\n",
    "    df.iloc[:,1:] = np.round(df.iloc[:,1:] * 100, 2)\n",
    "    \n",
    "    # Add 12-17 age group\n",
    "    df['12-17'] = -6666\n",
    "    \n",
    "    return df"
   ]
  },
  {
   "cell_type": "markdown",
   "metadata": {},
   "source": [
    "### Serious Mental Illness"
   ]
  },
  {
   "cell_type": "code",
   "execution_count": 173,
   "metadata": {},
   "outputs": [],
   "source": [
    "# Make sure Table 27 is indeed Serious Mental Illness\n",
    "assert 'Serious Mental Illness' in pd.read_excel(xls, 'Table 27').columns[0]\n",
    "\n",
    "mn_serious = pd.read_excel(xls, 'Table 27', skiprows=5, index_col='Order')\n",
    "mn_serious = clean_up_table(mn_serious).melt(id_vars='Region', var_name='Age Range', value_name='Value')\n",
    "mn_serious['Mental Health'] = 'Serious Mental Illness in the Past Year'"
   ]
  },
  {
   "cell_type": "markdown",
   "metadata": {},
   "source": [
    "### Any Mental Illness"
   ]
  },
  {
   "cell_type": "code",
   "execution_count": 174,
   "metadata": {},
   "outputs": [],
   "source": [
    "# Make sure Table 28 is indeed Any Mental Illness\n",
    "assert 'Any Mental Illness' in pd.read_excel(xls, 'Table 28').columns[0]\n",
    "\n",
    "mn_any = pd.read_excel(xls, 'Table 28', skiprows=5, index_col='Order')\n",
    "mn_any = clean_up_table(mn_any).melt(id_vars='Region', var_name='Age Range', value_name='Value')\n",
    "mn_any['Mental Health'] = 'Any Mental Illness in the Past Year'"
   ]
  },
  {
   "cell_type": "markdown",
   "metadata": {},
   "source": [
    "### Thoughts of Suicide"
   ]
  },
  {
   "cell_type": "code",
   "execution_count": 175,
   "metadata": {},
   "outputs": [],
   "source": [
    "# Make sure Table 30 is indeed Serious Thoughts of Suicide\n",
    "assert 'Serious Thoughts of Suicide' in pd.read_excel(xls, 'Table 30').columns[0]\n",
    "\n",
    "mn_suicide = pd.read_excel(xls, 'Table 30', skiprows=5, index_col='Order')\n",
    "mn_suicide = clean_up_table(mn_suicide).melt(id_vars='Region', var_name='Age Range', value_name='Value')\n",
    "mn_suicide['Mental Health'] = 'Had Serious Thoughts of Suicide in the Past Year'"
   ]
  },
  {
   "cell_type": "markdown",
   "metadata": {},
   "source": [
    "### Major Depressive Episode"
   ]
  },
  {
   "cell_type": "code",
   "execution_count": 176,
   "metadata": {},
   "outputs": [],
   "source": [
    "# Make sure Table 30 is indeed Major Depressive Episode\n",
    "assert 'Major Depressive Episode' in pd.read_excel(xls, 'Table 31').columns[0]\n",
    "\n",
    "mn_depress = pd.read_excel(xls, 'Table 31', skiprows=6, index_col='Order')\n",
    "mn_depress = clean_up_table(mn_depress).melt(id_vars='Region', var_name='Age Range', value_name='Value')\n",
    "mn_depress['Mental Health'] = 'Had at Least One Major Depressive Episode in the Past Year'"
   ]
  },
  {
   "cell_type": "markdown",
   "metadata": {},
   "source": [
    "## Combine all into one and save to base"
   ]
  },
  {
   "cell_type": "code",
   "execution_count": 187,
   "metadata": {},
   "outputs": [],
   "source": [
    "new_data = pd.concat([\n",
    "    mn_serious,\n",
    "    mn_any,\n",
    "    mn_suicide,\n",
    "    mn_depress\n",
    "])\n",
    "\n",
    "new_data['Year'] = '2017-2018'\n",
    "new_data['Variable'] = 'Mental Health'\n",
    "new_data['Measure Type'] = 'Percent'\n",
    "\n",
    "base.append(new_data).sort_values(['Region', 'Year', 'Age Range']).filter([\n",
    "    'Region',\n",
    "    'Year',\n",
    "    'Age Range',\n",
    "    'Mental Health',\n",
    "    'Measure Type',\n",
    "    'Variable',\n",
    "    'Value'\n",
    "]).to_csv('../data/dmhas_nsduh_mn_2018.csv', index=False, quoting=csv.QUOTE_NONNUMERIC)"
   ]
  },
  {
   "cell_type": "code",
   "execution_count": null,
   "metadata": {},
   "outputs": [],
   "source": []
  }
 ],
 "metadata": {
  "kernelspec": {
   "display_name": "Python 3",
   "language": "python",
   "name": "python3"
  },
  "language_info": {
   "codemirror_mode": {
    "name": "ipython",
    "version": 3
   },
   "file_extension": ".py",
   "mimetype": "text/x-python",
   "name": "python",
   "nbconvert_exporter": "python",
   "pygments_lexer": "ipython3",
   "version": "3.7.3"
  }
 },
 "nbformat": 4,
 "nbformat_minor": 4
}
